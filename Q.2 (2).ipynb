{
 "cells": [
  {
   "cell_type": "code",
   "execution_count": null,
   "id": "1a12b0f8-3552-4665-84a0-ef606b612850",
   "metadata": {},
   "outputs": [],
   "source": [
    "\"\"\"\n",
    "Q.2. Why threading module used? Write the use of the following\n",
    "functions.\n",
    "1) activeCount()\n",
    "\n",
    "solution:\n",
    "\n",
    "The threading module in Python is used to create and manage\n",
    "threads. Threads are lightweight, independent units of\n",
    "execution that can run concurrently within a process. \n",
    "Threading is useful when you have tasks that can be executed\n",
    "concurrently, such as performing multiple I/O operations or\n",
    "parallelizing CPU-bound tasks, to make your program more\n",
    "efficient.\n",
    "\n",
    "One of the functions provided by the threading module is \n",
    "activeCount. This function is used to determine the current \n",
    "number of Thread objects that are active and running within\n",
    "the program. The activeCount function is also known as \n",
    "active_count in Python 3.\n",
    "\n",
    "Here's how you can use the activeCount function:\n",
    "\"\"\""
   ]
  },
  {
   "cell_type": "code",
   "execution_count": 1,
   "id": "d57dea55-fe6e-49fb-9fe2-46677d06ceef",
   "metadata": {},
   "outputs": [
    {
     "name": "stdout",
     "output_type": "stream",
     "text": [
      "Number of active threads: 8\n"
     ]
    },
    {
     "name": "stderr",
     "output_type": "stream",
     "text": [
      "/tmp/ipykernel_457/3098362261.py:22: DeprecationWarning: activeCount() is deprecated, use active_count() instead\n",
      "  active_threads = threading.activeCount()\n"
     ]
    }
   ],
   "source": [
    "\n",
    "import threading\n",
    "\n",
    "# Function to be executed by threads\n",
    "def my_function():\n",
    "    pass\n",
    "\n",
    "# Create some threads\n",
    "threads = []\n",
    "for i in range(5):\n",
    "    thread = threading.Thread(target=my_function)\n",
    "    threads.append(thread)\n",
    "\n",
    "# Start the threads\n",
    "for thread in threads:\n",
    "    thread.start()\n",
    "\n",
    "# Wait for all threads to complete\n",
    "for thread in threads:\n",
    "    thread.join()\n",
    "\n",
    "# Get the number of active threads\n",
    "active_threads = threading.activeCount()\n",
    "print(\"Number of active threads:\", active_threads)\n"
   ]
  },
  {
   "cell_type": "code",
   "execution_count": null,
   "id": "23e0f9b6-56c0-45f5-a892-cb998b81a08b",
   "metadata": {},
   "outputs": [],
   "source": [
    "\"\"\"\n",
    "In this example, we create five threads, start them, wait for \n",
    "them to complete, and then use threading.activeCount()\n",
    "to determine how many threads are currently active. This \n",
    "function can be useful for monitoring and managing the \n",
    "concurrency in your Python program.\n",
    "\"\"\""
   ]
  },
  {
   "cell_type": "code",
   "execution_count": 2,
   "id": "3bb80c61-b7e0-47ae-a6f2-e92bd3d5efc8",
   "metadata": {},
   "outputs": [
    {
     "name": "stdout",
     "output_type": "stream",
     "text": [
      "Current thread name: Thread-10 (print_current_thread_name)\n",
      "Current thread name: Thread-11 (print_current_thread_name)\n"
     ]
    },
    {
     "name": "stderr",
     "output_type": "stream",
     "text": [
      "/tmp/ipykernel_457/3342382491.py:18: DeprecationWarning: currentThread() is deprecated, use current_thread() instead\n",
      "  current_thread = threading.currentThread()\n",
      "/tmp/ipykernel_457/3342382491.py:19: DeprecationWarning: getName() is deprecated, get the name attribute instead\n",
      "  print(\"Current thread name:\", current_thread.getName())\n"
     ]
    }
   ],
   "source": [
    "\"\"\"\n",
    "2) CurrentThread()\n",
    "\n",
    "solution:\n",
    "The threading module in Python is used for working with \n",
    "threads, which are lightweight, independent units of \n",
    "execution within a program. Threads allow you to run multiple\n",
    "tasks concurrently, making your program more efficient, \n",
    "especially in situations where tasks can be executed in \n",
    "parallel. Here are some common use cases for the threading\n",
    "module:\n",
    "\"\"\"\n",
    "\n",
    "import threading\n",
    "\n",
    "# Function to print the current thread's name\n",
    "def print_current_thread_name():\n",
    "    current_thread = threading.currentThread()\n",
    "    print(\"Current thread name:\", current_thread.getName())\n",
    "\n",
    "# Create two threads\n",
    "thread1 = threading.Thread(target=print_current_thread_name)\n",
    "thread2 = threading.Thread(target=print_current_thread_name)\n",
    "\n",
    "# Start the threads\n",
    "thread1.start()\n",
    "thread2.start()\n",
    "\n",
    "# Wait for both threads to complete\n",
    "thread1.join()\n",
    "thread2.join()\n"
   ]
  },
  {
   "cell_type": "code",
   "execution_count": 3,
   "id": "f6380cae-9508-4efa-9ce7-6ee168676880",
   "metadata": {},
   "outputs": [
    {
     "name": "stdout",
     "output_type": "stream",
     "text": [
      "Index 0: apple\n",
      "Index 1: banana\n",
      "Index 2: cherry\n"
     ]
    }
   ],
   "source": [
    "\"\"\"\n",
    "3) enumerate()\n",
    "\n",
    "solution:\n",
    "\n",
    "The threading module in Python is used for working with \n",
    "threads, which are lightweight, independent units of \n",
    "execution within a program. Threads enable you to run\n",
    "multiple tasks concurrently, making your program more \n",
    "efficient, especially in scenarios where tasks can be \n",
    "executed in parallel. Here are some common use cases for\n",
    "the threading module:\n",
    "\"\"\"\n",
    "# Using enumerate to iterate through a list and get both index and value\n",
    "my_list = ['apple', 'banana', 'cherry']\n",
    "for index, value in enumerate(my_list):\n",
    "    print(f\"Index {index}: {value}\")\n"
   ]
  },
  {
   "cell_type": "code",
   "execution_count": null,
   "id": "6d52278c-fedc-4c24-81b9-fa952ec048bd",
   "metadata": {},
   "outputs": [],
   "source": []
  }
 ],
 "metadata": {
  "kernelspec": {
   "display_name": "Python 3 (ipykernel)",
   "language": "python",
   "name": "python3"
  },
  "language_info": {
   "codemirror_mode": {
    "name": "ipython",
    "version": 3
   },
   "file_extension": ".py",
   "mimetype": "text/x-python",
   "name": "python",
   "nbconvert_exporter": "python",
   "pygments_lexer": "ipython3",
   "version": "3.10.8"
  }
 },
 "nbformat": 4,
 "nbformat_minor": 5
}
