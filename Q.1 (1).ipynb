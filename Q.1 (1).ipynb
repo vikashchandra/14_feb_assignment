{
 "cells": [
  {
   "cell_type": "code",
   "execution_count": null,
   "id": "6d78f468-37af-456c-ad80-39d6f4c038c4",
   "metadata": {},
   "outputs": [],
   "source": [
    "\"\"\"\n",
    "Q.1. What is multithreading in python? Why is it used? Name \n",
    "the module used to handle threads in python.\n",
    "\n",
    "solution:\n",
    "\n",
    "Multithreading in Python refers to the concurrent execution \n",
    "of multiple threads within a single process. Each thread\n",
    "represents a separate flow of control within the same program,\n",
    "and these threads can execute independently, allowing for\n",
    "parallel or concurrent execution of tasks. Python's threading \n",
    "module is used to work with threads and manage multithreading.\n",
    "\n",
    "Multithreading is used in Python for various reasons, including:\n",
    "\n",
    "1. Improved Responsiveness: Multithreading can be used to keep \n",
    "a program responsive to user input, especially in graphical\n",
    "user interfaces (GUIs) and applications that require handling\n",
    "multiple tasks simultaneously. For example, a GUI application\n",
    "can use one thread for user interactions and another for \n",
    "background processing.\n",
    "\n",
    "2. Utilizing Multi-Core Processors: On multi-core processors, \n",
    "multithreading allows you to take advantage of parallel \n",
    "processing, making your program potentially faster by\n",
    "performing tasks concurrently on different cores.\n",
    "\n",
    "3. I/O-Bound Operations: Multithreading is particularly useful\n",
    "when dealing with I/O-bound operations, such as reading and \n",
    "writing files, network communication, or database access.\n",
    "While one thread is waiting for I/O, another thread can \n",
    "continue executing tasks.\n",
    "\n",
    "4. Efficient Resource Utilization: Multithreading can help \n",
    "make more efficient use of system resources because threads \n",
    "share the same memory space, making them more lightweight\n",
    "compared to separate processes.\n",
    "\n",
    "Python's threading module provides the Thread class, which \n",
    "can be used to create and manage threads. Here's a basic \n",
    "example of how to use the threading module in Python:\n",
    "\"\"\""
   ]
  },
  {
   "cell_type": "code",
   "execution_count": 1,
   "id": "0b9c6cdf-18a6-4c01-88a2-f6091d3c71b1",
   "metadata": {},
   "outputs": [
    {
     "name": "stdout",
     "output_type": "stream",
     "text": [
      "Thread: Thread 1, Value: 0\n",
      "Thread: Thread 1, Value: 1\n",
      "Thread: Thread 1, Value: 2\n",
      "Thread: Thread 1, Value: 3\n",
      "Thread: Thread 1, Value: 4\n",
      "Thread: Thread 2, Value: 0\n",
      "Thread: Thread 2, Value: 1\n",
      "Thread: Thread 2, Value: 2\n",
      "Thread: Thread 2, Value: 3\n",
      "Thread: Thread 2, Value: 4\n",
      "Both threads have finished.\n"
     ]
    }
   ],
   "source": [
    "import threading\n",
    "\n",
    "def my_function():\n",
    "    for i in range(5):\n",
    "        print(f\"Thread: {threading.current_thread().name}, Value: {i}\")\n",
    "\n",
    "# Create two threads\n",
    "thread1 = threading.Thread(target=my_function, name=\"Thread 1\")\n",
    "thread2 = threading.Thread(target=my_function, name=\"Thread 2\")\n",
    "\n",
    "# Start the threads\n",
    "thread1.start()\n",
    "thread2.start()\n",
    "\n",
    "# Wait for both threads to finish\n",
    "thread1.join()\n",
    "thread2.join()\n",
    "\n",
    "print(\"Both threads have finished.\")\n"
   ]
  },
  {
   "cell_type": "code",
   "execution_count": null,
   "id": "9ed9c729-0ab0-40be-8693-24a31978c63e",
   "metadata": {},
   "outputs": [],
   "source": [
    "\"\"\"\n",
    "In this example, two threads are created to execute the\n",
    "my_function function concurrently. \n",
    "The threading.current_thread().name is used to identify the\n",
    "current thread.\n",
    "\n",
    "Keep in mind that Python's Global Interpreter Lock (GIL) can\n",
    "limit the full utilization of multiple CPU cores in certain \n",
    "scenarios, particularly when dealing with CPU-bound operations.\n",
    "In such cases, you might consider using the multiprocessing\n",
    "module for parallel processing.\n",
    "\"\"\""
   ]
  }
 ],
 "metadata": {
  "kernelspec": {
   "display_name": "Python 3 (ipykernel)",
   "language": "python",
   "name": "python3"
  },
  "language_info": {
   "codemirror_mode": {
    "name": "ipython",
    "version": 3
   },
   "file_extension": ".py",
   "mimetype": "text/x-python",
   "name": "python",
   "nbconvert_exporter": "python",
   "pygments_lexer": "ipython3",
   "version": "3.10.8"
  }
 },
 "nbformat": 4,
 "nbformat_minor": 5
}
